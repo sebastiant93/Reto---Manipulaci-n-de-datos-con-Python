{
  "nbformat": 4,
  "nbformat_minor": 0,
  "metadata": {
    "colab": {
      "provenance": [],
      "toc_visible": true
    },
    "kernelspec": {
      "name": "python3",
      "display_name": "Python 3"
    },
    "language_info": {
      "name": "python"
    }
  },
  "cells": [
    {
      "cell_type": "markdown",
      "source": [
        "#Solución reto sublección 6: \n",
        "##Análisis de deserción de empleados con sus sistemas operativos utilizados"
      ],
      "metadata": {
        "id": "HEpPG-A6lZXd"
      }
    },
    {
      "cell_type": "markdown",
      "source": [
        "##4) Cargar datos\n",
        "Crea cuatro DataFrames en pandas, cada uno para cargar el contenido de los diferentes archivos.  "
      ],
      "metadata": {
        "id": "PVF7Xcidller"
      }
    },
    {
      "cell_type": "code",
      "execution_count": null,
      "metadata": {
        "colab": {
          "base_uri": "https://localhost:8080/"
        },
        "id": "-CkJsNmWlP9q",
        "outputId": "c565ec55-abf7-4f75-f5e7-d869a6724295"
      },
      "outputs": [
        {
          "output_type": "stream",
          "name": "stdout",
          "text": [
            "Mounted at /content/gdrive\n"
          ]
        }
      ],
      "source": [
        "# Se importan los documentos desde la cuenta Google driveDrive\n",
        "from google.colab import drive \n",
        "drive.mount('/content/gdrive')"
      ]
    },
    {
      "cell_type": "code",
      "source": [
        "#Importación de módulos\n",
        "import numpy as np\n",
        "import pandas as pd\n",
        "\n",
        "#Se almacena la información:\n",
        "#Empleados en dataframes \"dataEmp1\" \"dataEmp2\"\n",
        "#Sistemas operativos en tickets \"dataST1\" \"dataST2\"\n",
        "\n",
        "#Lectura datos empleados\n",
        "dataEmp1=pd.read_csv('/content/gdrive/MyDrive/Colab Notebooks/ArchivosCarga/Test.csv')\n",
        "dataEmp2=pd.read_csv('/content/gdrive/MyDrive/Colab Notebooks/ArchivosCarga/Train.csv')\n",
        "\n",
        "#Lectura datos Sistema operativo y Tickets\n",
        "dataST1=pd.read_csv('/content/gdrive/MyDrive/Colab Notebooks/ArchivosCarga/Test2.csv')\n",
        "dataST2=pd.read_csv('/content/gdrive/MyDrive/Colab Notebooks/ArchivosCarga/Train2.csv')\n",
        "\n",
        "#Impresión de información de cada dataframe para entender estructura\n",
        "print(dataEmp1.info())\n",
        "print()\n",
        "print(dataEmp2.info())\n",
        "print()\n",
        "print(dataST1.info())\n",
        "print()\n",
        "print(dataST2.info())\n",
        "\n",
        "#Se eliminan los espacios en blanco en los encabezados para evitar problemas en consultas\n",
        "dataEmp1.columns=dataEmp1.columns.str.strip()\n",
        "dataEmp2.columns=dataEmp2.columns.str.strip()\n",
        "dataST1.columns=dataST1.columns.str.strip()\n",
        "dataST2.columns=dataST2.columns.str.strip()\n",
        "\n"
      ],
      "metadata": {
        "colab": {
          "base_uri": "https://localhost:8080/"
        },
        "id": "fSnjPyL2mmZ5",
        "outputId": "43a280fd-d1e1-44c1-bf50-8fb4c3590387"
      },
      "execution_count": null,
      "outputs": [
        {
          "output_type": "stream",
          "name": "stdout",
          "text": [
            "<class 'pandas.core.frame.DataFrame'>\n",
            "RangeIndex: 3000 entries, 0 to 2999\n",
            "Data columns (total 23 columns):\n",
            " #   Column                     Non-Null Count  Dtype  \n",
            "---  ------                     --------------  -----  \n",
            " 0   Employee_ID                3000 non-null   object \n",
            " 1   Gender                     3000 non-null   object \n",
            " 2   Age                        2839 non-null   float64\n",
            " 3   Education_Level            3000 non-null   int64  \n",
            " 4   Relationship_Status        3000 non-null   object \n",
            " 5   Hometown                   3000 non-null   object \n",
            " 6   Unit                       3000 non-null   object \n",
            " 7   Decision_skill_possess     3000 non-null   object \n",
            " 8   Time_of_service            2948 non-null   float64\n",
            " 9   Time_since_promotion       3000 non-null   int64  \n",
            " 10  growth_rate                3000 non-null   int64  \n",
            " 11  Travel_Rate                3000 non-null   int64  \n",
            " 12  Post_Level                 3000 non-null   int64  \n",
            " 13  Pay_Scale                  2997 non-null   float64\n",
            " 14  Compensation_and_Benefits  3000 non-null   object \n",
            " 15  Work_Life_balance          2995 non-null   float64\n",
            " 16  VAR1                       3000 non-null   int64  \n",
            " 17  VAR2                       2783 non-null   float64\n",
            " 18  VAR3                       3000 non-null   float64\n",
            " 19  VAR4                       2702 non-null   float64\n",
            " 20  VAR5                       3000 non-null   int64  \n",
            " 21  VAR6                       3000 non-null   int64  \n",
            " 22  VAR7                       3000 non-null   int64  \n",
            "dtypes: float64(7), int64(9), object(7)\n",
            "memory usage: 539.2+ KB\n",
            "None\n",
            "\n",
            "<class 'pandas.core.frame.DataFrame'>\n",
            "RangeIndex: 7000 entries, 0 to 6999\n",
            "Data columns (total 24 columns):\n",
            " #   Column                     Non-Null Count  Dtype  \n",
            "---  ------                     --------------  -----  \n",
            " 0   Employee_ID                7000 non-null   object \n",
            " 1   Gender                     7000 non-null   object \n",
            " 2   Age                        6588 non-null   float64\n",
            " 3   Education_Level            7000 non-null   int64  \n",
            " 4   Relationship_Status        7000 non-null   object \n",
            " 5   Hometown                   7000 non-null   object \n",
            " 6   Unit                       7000 non-null   object \n",
            " 7   Decision_skill_possess     7000 non-null   object \n",
            " 8   Time_of_service            6856 non-null   float64\n",
            " 9   Time_since_promotion       7000 non-null   int64  \n",
            " 10  growth_rate                7000 non-null   int64  \n",
            " 11  Travel_Rate                7000 non-null   int64  \n",
            " 12  Post_Level                 7000 non-null   int64  \n",
            " 13  Pay_Scale                  6991 non-null   float64\n",
            " 14  Compensation_and_Benefits  7000 non-null   object \n",
            " 15  Work_Life_balance          6989 non-null   float64\n",
            " 16  VAR1                       7000 non-null   int64  \n",
            " 17  VAR2                       6423 non-null   float64\n",
            " 18  VAR3                       7000 non-null   float64\n",
            " 19  VAR4                       6344 non-null   float64\n",
            " 20  VAR5                       7000 non-null   int64  \n",
            " 21  VAR6                       7000 non-null   int64  \n",
            " 22  VAR7                       7000 non-null   int64  \n",
            " 23  Attrition_rate             7000 non-null   float64\n",
            "dtypes: float64(8), int64(9), object(7)\n",
            "memory usage: 1.3+ MB\n",
            "None\n",
            "\n",
            "<class 'pandas.core.frame.DataFrame'>\n",
            "RangeIndex: 3000 entries, 0 to 2999\n",
            "Data columns (total 7 columns):\n",
            " #   Column                Non-Null Count  Dtype  \n",
            "---  ------                --------------  -----  \n",
            " 0   Employee_ID           3000 non-null   object \n",
            " 1    Computer_OS          2959 non-null   object \n",
            " 2    Computer_OS_version  2899 non-null   object \n",
            " 3    Computer_tickets     3000 non-null   int64  \n",
            " 4    Mobile_OS            2913 non-null   object \n",
            " 5    Mobile_OS_version    2901 non-null   float64\n",
            " 6    Mobile_tickets       3000 non-null   int64  \n",
            "dtypes: float64(1), int64(2), object(4)\n",
            "memory usage: 164.2+ KB\n",
            "None\n",
            "\n",
            "<class 'pandas.core.frame.DataFrame'>\n",
            "RangeIndex: 7000 entries, 0 to 6999\n",
            "Data columns (total 7 columns):\n",
            " #   Column                Non-Null Count  Dtype  \n",
            "---  ------                --------------  -----  \n",
            " 0   Employee_ID           7000 non-null   object \n",
            " 1    Computer_OS          6883 non-null   object \n",
            " 2    Computer_OS_version  6741 non-null   object \n",
            " 3    Computer_tickets     7000 non-null   int64  \n",
            " 4    Mobile_OS            6800 non-null   object \n",
            " 5    Mobile_OS_version    6780 non-null   float64\n",
            " 6    Mobile_tickets       7000 non-null   int64  \n",
            "dtypes: float64(1), int64(2), object(4)\n",
            "memory usage: 382.9+ KB\n",
            "None\n"
          ]
        }
      ]
    },
    {
      "cell_type": "markdown",
      "source": [
        "##5) Conjuntar dataframes\n",
        "Conjunta de manera correcta la información, de tal forma que queden todos los\n",
        "registros juntos en un solo DataFrame que contenga todas las columnas\n",
        "necesarias."
      ],
      "metadata": {
        "id": "xC-9bRwgot1f"
      }
    },
    {
      "cell_type": "code",
      "source": [
        "#Proceso:\n",
        "#1) Concatenación de dataframes con igual estructura: dataEmp1 con dataEmp2, dataST1 con dataST2\n",
        "#2) Merge de campos de acuerdo con el ID del empleado\n",
        "\n",
        "#Se concatenan los dataframes de empleados. Se usa ignore_index para evitar problemas de índice\n",
        "fulldataEmp=pd.concat([dataEmp1,dataEmp2],ignore_index=True)\n",
        "\n",
        "#Se concatenan los dataframes de Sistemas operativos y tickets. Se usa ignore_index para evitar problemas de índice\n",
        "fulldataST=pd.concat([dataST1,dataST2],ignore_index=True)\n",
        "\n",
        "#Merge de dataframes resultantes (Primeros 5 registros)\n",
        "fulldata=pd.merge(fulldataEmp,fulldataST,left_on='Employee_ID',right_on='Employee_ID',suffixes=('_Emp','_ST'))\n",
        "print(fulldata.head(5))\n",
        "\n"
      ],
      "metadata": {
        "colab": {
          "base_uri": "https://localhost:8080/"
        },
        "id": "zqwnyp3los67",
        "outputId": "aeaff3ec-17c2-441c-ee6b-9c86dd52cba7"
      },
      "execution_count": 93,
      "outputs": [
        {
          "output_type": "stream",
          "name": "stdout",
          "text": [
            "  Employee_ID Gender   Age  Education_Level Relationship_Status     Hometown  \\\n",
            "0   EID_22713      F  32.0                5              Single  Springfield   \n",
            "1    EID_9658      M  65.0                2              Single      Lebanon   \n",
            "2   EID_22203      M  52.0                3             Married  Springfield   \n",
            "3    EID_7652      M  50.0                5              Single   Washington   \n",
            "4    EID_6516      F  44.0                3             Married     Franklin   \n",
            "\n",
            "        Unit Decision_skill_possess  Time_of_service  Time_since_promotion  \\\n",
            "0        R&D             Conceptual              7.0                     4   \n",
            "1         IT              Directive             41.0                     2   \n",
            "2      Sales              Directive             21.0                     3   \n",
            "3  Marketing             Analytical             11.0                     4   \n",
            "4        R&D             Conceptual             12.0                     4   \n",
            "\n",
            "   ...  VAR5  VAR6  VAR7  Attrition_rate Computer_OS  Computer_OS_version  \\\n",
            "0  ...     1     8     4             NaN       MacOS               Mojave   \n",
            "1  ...     2     8     2             NaN     Windows                   10   \n",
            "2  ...     1     9     3             NaN     Windows                   10   \n",
            "3  ...     2     8     3             NaN     Windows                    7   \n",
            "4  ...     2     7     4             NaN     Windows                   10   \n",
            "\n",
            "   Computer_tickets  Mobile_OS  Mobile_OS_version  Mobile_tickets  \n",
            "0                 0        iOS               12.0               0  \n",
            "1                 9    Android               10.0               3  \n",
            "2                 0    Android               10.0               0  \n",
            "3                 0        iOS               13.0               0  \n",
            "4                 5    Android               10.0               1  \n",
            "\n",
            "[5 rows x 30 columns]\n"
          ]
        }
      ]
    },
    {
      "cell_type": "markdown",
      "source": [
        "## 6) no registrados\n",
        "Para todos los registros que no tienen un valor para un sistema operativo, ya\n",
        "sea de su computadora o de su dispositivo móvil, asignar el valor “no\n",
        "registrado“. "
      ],
      "metadata": {
        "id": "9W8ai8OjrCXu"
      }
    },
    {
      "cell_type": "code",
      "source": [
        "#Declaración de funciones\n",
        "#____________________________________________________\n",
        "def replacena(df,colnames,texto):\n",
        "    #Función destinada a tomar un dataframe df, y reemplazar las posicionas NaN por un texto\n",
        "    #Argumentos &Variables\n",
        "      #df: Dataframe en el cual se realiza el reemplazo\n",
        "      #colnames:Lista de atributos sobre los cuales se realiza el reemplazo\n",
        "      #texto: Mensaje que reemplaza valores NaN\n",
        "    #ReturnValues:\n",
        "      #df: dataframe con valores reemplazados\n",
        "    for col in colnames:\n",
        "        df[col].loc[df[col].isna()]=texto  \n",
        "    return df\n",
        "#____________________________________________________\n",
        "\n",
        "#Se realiza la búsqueda de posiciones con función replacena\n",
        "fulldata= replacena(fulldata,['Computer_OS','Computer_OS_version','Mobile_OS'],'No Registrado')\n",
        "print(fulldata.head(5))\n"
      ],
      "metadata": {
        "colab": {
          "base_uri": "https://localhost:8080/"
        },
        "id": "DIzGDDg3q9DO",
        "outputId": "2b598b97-b220-49ba-cbed-4a0c9a5e408c"
      },
      "execution_count": 94,
      "outputs": [
        {
          "output_type": "stream",
          "name": "stdout",
          "text": [
            "  Employee_ID Gender   Age  Education_Level Relationship_Status     Hometown  \\\n",
            "0   EID_22713      F  32.0                5              Single  Springfield   \n",
            "1    EID_9658      M  65.0                2              Single      Lebanon   \n",
            "2   EID_22203      M  52.0                3             Married  Springfield   \n",
            "3    EID_7652      M  50.0                5              Single   Washington   \n",
            "4    EID_6516      F  44.0                3             Married     Franklin   \n",
            "\n",
            "        Unit Decision_skill_possess  Time_of_service  Time_since_promotion  \\\n",
            "0        R&D             Conceptual              7.0                     4   \n",
            "1         IT              Directive             41.0                     2   \n",
            "2      Sales              Directive             21.0                     3   \n",
            "3  Marketing             Analytical             11.0                     4   \n",
            "4        R&D             Conceptual             12.0                     4   \n",
            "\n",
            "   ...  VAR5  VAR6  VAR7  Attrition_rate Computer_OS  Computer_OS_version  \\\n",
            "0  ...     1     8     4             NaN       MacOS               Mojave   \n",
            "1  ...     2     8     2             NaN     Windows                   10   \n",
            "2  ...     1     9     3             NaN     Windows                   10   \n",
            "3  ...     2     8     3             NaN     Windows                    7   \n",
            "4  ...     2     7     4             NaN     Windows                   10   \n",
            "\n",
            "   Computer_tickets  Mobile_OS  Mobile_OS_version  Mobile_tickets  \n",
            "0                 0        iOS               12.0               0  \n",
            "1                 9    Android               10.0               3  \n",
            "2                 0    Android               10.0               0  \n",
            "3                 0        iOS               13.0               0  \n",
            "4                 5    Android               10.0               1  \n",
            "\n",
            "[5 rows x 30 columns]\n"
          ]
        },
        {
          "output_type": "stream",
          "name": "stderr",
          "text": [
            "<ipython-input-94-980e0b39fc6f>:12: SettingWithCopyWarning: \n",
            "A value is trying to be set on a copy of a slice from a DataFrame\n",
            "\n",
            "See the caveats in the documentation: https://pandas.pydata.org/pandas-docs/stable/user_guide/indexing.html#returning-a-view-versus-a-copy\n",
            "  df[col].loc[df[col].isna()]=texto\n"
          ]
        }
      ]
    },
    {
      "cell_type": "markdown",
      "source": [
        "##7a) Porcentaje OS Escritorio\n",
        "Ejecuta la instrucción adecuada en pandas para encontrar El porcentaje de personas que usan Windows / Mac / Linux / no\n",
        "registrado como su sistema operativo en su computadora. "
      ],
      "metadata": {
        "id": "vyfE7lC8zsFj"
      }
    },
    {
      "cell_type": "code",
      "source": [
        "#Declaración de funciones\n",
        "#____________________________________________________________________________________________________________\n",
        "def renamedf(df,kpiname,colname):\n",
        "    #Frame utilizado para reiniciar el índice, y renombrar columna de los resultados calculados en el punto 7\n",
        "    #Variables&Argumentos:\n",
        "        # df: dataFrame a reestructurar\n",
        "        # kpiname: Nuevo nombre para la columna de resultados\n",
        "        # colname: Nuevo nombre de la columna agrupada\n",
        "    #ReturnValues:\n",
        "        #df: dataFrame reestructurado\n",
        "      \n",
        "    df=df.set_axis([kpiname],axis=1) #Se renombra la columna del cálculo\n",
        "    df=df.reset_index()  #Reinicio de índice para poder completar títulos en el dataframe\n",
        "    df=df.set_axis([colname,kpiname],axis=1) #Se renombra la columna faltante del dataframe\n",
        "    return df\n",
        "#____________________________________________________________________________________________________________\n",
        "\n",
        "\n",
        "#Se calcula el porcentaje mediante la división entre el conteo de cada Sistema, y el total de usuarios\n",
        "#Se agrupa el dataframe por el campo Computer_OS para esta operación\n",
        "\n",
        "#Se almacena el resultado en el dataframe porcentOS\n",
        "percentOS=fulldata.groupby(['Computer_OS']).agg({'Computer_OS': np.size})*100/fulldata.shape[0]\n",
        "percentOS=renamedf(percentOS,'Porcentaje','Sistema Operativo')\n",
        "\n",
        "print(percentOS)"
      ],
      "metadata": {
        "colab": {
          "base_uri": "https://localhost:8080/"
        },
        "id": "PbUjHztxFqUg",
        "outputId": "13a7b1ce-9a65-4ec8-9379-70a8f7785f59"
      },
      "execution_count": null,
      "outputs": [
        {
          "output_type": "stream",
          "name": "stdout",
          "text": [
            "  Sistema Operativo  Porcentaje\n",
            "0             Linux        4.80\n",
            "1             MacOS       16.34\n",
            "2     No Registrado        1.58\n",
            "3           Windows       77.28\n"
          ]
        }
      ]
    },
    {
      "cell_type": "markdown",
      "source": [
        "##7b) Porcentaje OS Mobile\n",
        "El porcentaje de personas que usan iOS / Android / No registrado como\n",
        "su sistema operativo en su dispositivo móvil. \n"
      ],
      "metadata": {
        "id": "rys5jcAJNyNe"
      }
    },
    {
      "cell_type": "code",
      "source": [
        "#Se repite un proceso similar al del punto 7a), pero cambiando la columna de agrupamiento a Mobile_OS\n",
        "\n",
        "#Se almacena el resultado en el dataframe porcmobile_OS\n",
        "porcmobile_OS=fulldata.groupby(['Mobile_OS']).agg({'Mobile_OS': np.size})*100/fulldata.shape[0]\n",
        "porcmobile_OS=renamedf(porcmobile_OS,'Porcentaje','Sistema Operativo')\n",
        "\n",
        "print(porcmobile_OS)\n"
      ],
      "metadata": {
        "colab": {
          "base_uri": "https://localhost:8080/"
        },
        "id": "gDeA3SkrOQr8",
        "outputId": "da0aacd5-0356-46bb-efc7-dfa28f7a364e"
      },
      "execution_count": null,
      "outputs": [
        {
          "output_type": "stream",
          "name": "stdout",
          "text": [
            "  Sistema Operativo  Porcentaje\n",
            "0           Android       76.59\n",
            "1     No Registrado        2.87\n",
            "2               iOS       20.54\n"
          ]
        }
      ]
    },
    {
      "cell_type": "markdown",
      "source": [
        "##7c) Promedio Edad OS Escritorio\n",
        "La edad promedio de la gente que utiliza cada sistema operativo de\n",
        "escritorio"
      ],
      "metadata": {
        "id": "yJk91IsNO4u-"
      }
    },
    {
      "cell_type": "code",
      "source": [
        "#Se realiza un groupby de la columna edad de acuerdo con el sistema operativo de escritorio\n",
        "\n",
        "#se almacena el resultado en el dataframe edad_OS\n",
        "\n",
        "edad_OS=fulldata[['Age','Computer_OS']].groupby('Computer_OS').mean()\n",
        "edad_OS=renamedf(edad_OS,'Edad promedio','Sistema Operativo')\n",
        "print(edad_OS)\n"
      ],
      "metadata": {
        "colab": {
          "base_uri": "https://localhost:8080/"
        },
        "id": "aysDHYWEO7Gj",
        "outputId": "b37fc894-9c1d-4e80-fde7-6f0aa6316086"
      },
      "execution_count": null,
      "outputs": [
        {
          "output_type": "stream",
          "name": "stdout",
          "text": [
            "  Sistema Operativo  Edad promedio\n",
            "0             Linux      40.451902\n",
            "1             MacOS      40.396251\n",
            "2     No Registrado      40.523490\n",
            "3           Windows      39.457441\n"
          ]
        }
      ]
    },
    {
      "cell_type": "markdown",
      "source": [
        "##7d) Promedio Eductivo OS Escritorio\n",
        "El nivel educativo promedio de la gente que utiliza cada sistema\n",
        "operativo de escritorio."
      ],
      "metadata": {
        "id": "2iFPl8XNPsoQ"
      }
    },
    {
      "cell_type": "code",
      "source": [
        "#Se realiza un proceso similar al del punto 7c), pero agrupando por nivel educativo\n",
        "\n",
        "#se almacena el resultado en el dataframe estudio_OS\n",
        "\n",
        "estudio_OS=fulldata[['Education_Level','Computer_OS']].groupby('Computer_OS').mean()\n",
        "estudio_OS=renamedf(estudio_OS,'Nivel Educativo','Sistema Operativo')\n",
        "print(estudio_OS)\n"
      ],
      "metadata": {
        "colab": {
          "base_uri": "https://localhost:8080/"
        },
        "id": "JeXA7WvsP9bW",
        "outputId": "a466bd31-cfb9-4b18-828a-f8ef69f2f3f4"
      },
      "execution_count": null,
      "outputs": [
        {
          "output_type": "stream",
          "name": "stdout",
          "text": [
            "  Sistema Operativo  Nivel Educativo\n",
            "0             Linux         3.243750\n",
            "1             MacOS         3.168299\n",
            "2     No Registrado         3.177215\n",
            "3           Windows         3.203675\n"
          ]
        }
      ]
    },
    {
      "cell_type": "markdown",
      "source": [
        "##7e) Total Tickets OS Escritorio\n",
        "El número total de tickets generados por la gente con cada sistema\n",
        "operativo de escritorio."
      ],
      "metadata": {
        "id": "syhEXqt3Qa7r"
      }
    },
    {
      "cell_type": "code",
      "source": [
        "#Se realiza un proceso similar al del punto 7e), pero sumando el número de tickets por OS\n",
        "\n",
        "#se almacena el resultado en el dataframe tickets_OS\n",
        "\n",
        "tickets_OS=fulldata[['Computer_tickets','Computer_OS']].groupby('Computer_OS').sum()\n",
        "tickets_OS=renamedf(tickets_OS,'Cantidad de Tickets','Sistema Operativo')\n",
        "print(tickets_OS)\n"
      ],
      "metadata": {
        "colab": {
          "base_uri": "https://localhost:8080/"
        },
        "id": "JwysbYzCQs26",
        "outputId": "b2d4b0f8-f772-43ac-adcf-ac403668e517"
      },
      "execution_count": null,
      "outputs": [
        {
          "output_type": "stream",
          "name": "stdout",
          "text": [
            "  Sistema Operativo  Cantidad de Tickets\n",
            "0             Linux                  254\n",
            "1             MacOS                 1880\n",
            "2     No Registrado                  541\n",
            "3           Windows                21169\n"
          ]
        }
      ]
    },
    {
      "cell_type": "markdown",
      "source": [
        "##8) Impresión resultados\n",
        "\n",
        "Envía el resultado de cada solicitud de información a un archivo XLS[X], donde\n",
        "el resultado de cada consulta debe ir en su propia hoja de trabajo. \n"
      ],
      "metadata": {
        "id": "-pvXB3aeRsPV"
      }
    },
    {
      "cell_type": "code",
      "source": [
        "#Se utiliza la función ExcelWriter del framework Pandas\n",
        "\n",
        "with pd.ExcelWriter('Resultados.xlsx') as writer:\n",
        "    percentOS.to_excel(writer, sheet_name='Porcent OS_Desktop')  \n",
        "    porcmobile_OS.to_excel(writer, sheet_name='Porcentaje OS_Mobile')\n",
        "    edad_OS.to_excel(writer, sheet_name='Edad OS_Desktop')\n",
        "    estudio_OS.to_excel(writer, sheet_name='NivEducat OS_Desktop')\n",
        "    tickets_OS.to_excel(writer, sheet_name='Tickets OS_Desktop')\n",
        "    "
      ],
      "metadata": {
        "id": "-54pk0zcR2fa"
      },
      "execution_count": null,
      "outputs": []
    }
  ]
}